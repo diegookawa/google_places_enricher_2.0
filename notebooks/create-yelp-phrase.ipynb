{
 "cells": [
  {
   "cell_type": "markdown",
   "metadata": {},
   "source": [
    "# Create Yelp Phrase from Hierarchical Categories\n",
    "This notebook generates Yelp phrases from the hierarchical categories CSV and exports a CSV with columns: `category` and `matching_phrase`."
   ]
  },
  {
   "cell_type": "code",
   "execution_count": 9,
   "metadata": {},
   "outputs": [],
   "source": [
    "import sys\n",
    "import os\n",
    "import importlib.util\n",
    "import pandas as pd\n",
    "\n",
    "# Path to the utils.py file\n",
    "utils_path = os.path.abspath('../src/utils.py')\n",
    "spec = importlib.util.spec_from_file_location('utils', utils_path)\n",
    "utils = importlib.util.module_from_spec(spec)\n",
    "sys.modules['utils'] = utils\n",
    "spec.loader.exec_module(utils)\n",
    "create_yelp_phrase = utils.create_yelp_phrase"
   ]
  },
  {
   "cell_type": "code",
   "execution_count": 14,
   "metadata": {},
   "outputs": [],
   "source": [
    "# Load the hierarchical Yelp categories CSV\n",
    "input_path = 'google_places_enricher/data/input/hierarchical_yelp_categories.csv'\n",
    "df = pd.read_csv(input_path)"
   ]
  },
  {
   "cell_type": "code",
   "execution_count": 15,
   "metadata": {},
   "outputs": [],
   "source": [
    "# Generate Yelp phrases\n",
    "phrases = create_yelp_phrase(df)\n",
    "df['matching_phrase'] = phrases"
   ]
  },
  {
   "cell_type": "code",
   "execution_count": 17,
   "metadata": {},
   "outputs": [
    {
     "data": {
      "text/html": [
       "<div>\n",
       "<style scoped>\n",
       "    .dataframe tbody tr th:only-of-type {\n",
       "        vertical-align: middle;\n",
       "    }\n",
       "\n",
       "    .dataframe tbody tr th {\n",
       "        vertical-align: top;\n",
       "    }\n",
       "\n",
       "    .dataframe thead th {\n",
       "        text-align: right;\n",
       "    }\n",
       "</style>\n",
       "<table border=\"1\" class=\"dataframe\">\n",
       "  <thead>\n",
       "    <tr style=\"text-align: right;\">\n",
       "      <th></th>\n",
       "      <th>category</th>\n",
       "      <th>matching_phrase</th>\n",
       "    </tr>\n",
       "  </thead>\n",
       "  <tbody>\n",
       "    <tr>\n",
       "      <th>0</th>\n",
       "      <td>3D Printing</td>\n",
       "      <td>Local Services 3D Printing</td>\n",
       "    </tr>\n",
       "    <tr>\n",
       "      <th>1</th>\n",
       "      <td>Abruzzese</td>\n",
       "      <td>Italian Restaurants Abruzzese</td>\n",
       "    </tr>\n",
       "    <tr>\n",
       "      <th>2</th>\n",
       "      <td>Absinthe Bars</td>\n",
       "      <td>Bars Nightlife Absinthe Bars</td>\n",
       "    </tr>\n",
       "    <tr>\n",
       "      <th>3</th>\n",
       "      <td>Acai Bowls</td>\n",
       "      <td>Food Acai Bowls</td>\n",
       "    </tr>\n",
       "    <tr>\n",
       "      <th>4</th>\n",
       "      <td>Accessories</td>\n",
       "      <td>Fashion Shopping Accessories</td>\n",
       "    </tr>\n",
       "  </tbody>\n",
       "</table>\n",
       "</div>"
      ],
      "text/plain": [
       "        category                matching_phrase\n",
       "0    3D Printing     Local Services 3D Printing\n",
       "1      Abruzzese  Italian Restaurants Abruzzese\n",
       "2  Absinthe Bars   Bars Nightlife Absinthe Bars\n",
       "3     Acai Bowls                Food Acai Bowls\n",
       "4    Accessories   Fashion Shopping Accessories"
      ]
     },
     "execution_count": 17,
     "metadata": {},
     "output_type": "execute_result"
    }
   ],
   "source": [
    "# Prepare output DataFrame and export to CSV\n",
    "output_df = df[['leaf', 'matching_phrase']].rename(columns={'leaf': 'category'})\n",
    "output_path = '../src/static/data/output/yelp_phrases.csv'\n",
    "output_df.to_csv(output_path, index=False)\n",
    "output_df.head()"
   ]
  },
  {
   "cell_type": "code",
   "execution_count": null,
   "metadata": {},
   "outputs": [],
   "source": []
  }
 ],
 "metadata": {
  "kernelspec": {
   "display_name": ".conda",
   "language": "python",
   "name": "python3"
  },
  "language_info": {
   "codemirror_mode": {
    "name": "ipython",
    "version": 3
   },
   "file_extension": ".py",
   "mimetype": "text/x-python",
   "name": "python",
   "nbconvert_exporter": "python",
   "pygments_lexer": "ipython3",
   "version": "3.11.11"
  }
 },
 "nbformat": 4,
 "nbformat_minor": 2
}
